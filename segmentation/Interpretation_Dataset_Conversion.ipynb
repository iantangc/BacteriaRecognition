{
 "cells": [
  {
   "cell_type": "code",
   "execution_count": 32,
   "metadata": {},
   "outputs": [],
   "source": [
    "import h5py\n",
    "import numpy as np\n",
    "import csv\n",
    "from collections import defaultdict"
   ]
  },
  {
   "cell_type": "code",
   "execution_count": 33,
   "metadata": {},
   "outputs": [],
   "source": [
    "interpretation_file = '../data/interpretations/cleaned/nugent_score.csv'\n",
    "output_dataset_file = '../data/dataset/interpretation_20180204.h5'"
   ]
  },
  {
   "cell_type": "code",
   "execution_count": 34,
   "metadata": {},
   "outputs": [],
   "source": [
    "DELIMITER = \",\""
   ]
  },
  {
   "cell_type": "code",
   "execution_count": 35,
   "metadata": {},
   "outputs": [],
   "source": [
    "scores_dictionary = defaultdict(list)\n",
    "\n",
    "with open(interpretation_file) as csvfile:\n",
    "    label_reader = csv.reader(csvfile, delimiter = DELIMITER)\n",
    "    current_section = 'BEGIN'\n",
    "\n",
    "    for row in label_reader:\n",
    "        if current_section == 'BEGIN':\n",
    "            headers = row\n",
    "            current_section = 'CONTENT'\n",
    "        else:\n",
    "            scores_dictionary[row[0]] = (row[1], row[2], row[3])\n",
    "#     print(headers)\n",
    "#     print(scores_dictionary)"
   ]
  },
  {
   "cell_type": "code",
   "execution_count": 40,
   "metadata": {},
   "outputs": [],
   "source": [
    "f = h5py.File(output_dataset_file, \"a\")"
   ]
  },
  {
   "cell_type": "code",
   "execution_count": 37,
   "metadata": {},
   "outputs": [
    {
     "data": {
      "text/plain": [
       "<HDF5 dataset \"score_set\": shape (119,), type \"|V262\">"
      ]
     },
     "execution_count": 37,
     "metadata": {},
     "output_type": "execute_result"
    }
   ],
   "source": [
    "name_ints_tuple_type = np.dtype([\n",
    "    ('image_name', 'S256'),\n",
    "    ('scores', [(headers[1], np.uint16), (headers[2], np.uint16), (headers[3], np.uint16)])\n",
    "])\n",
    "\n",
    "f.create_dataset(\"header_set\", data = np.array(headers[1:], dtype = \"S256\"), dtype = \"S256\", chunks = True)\n",
    "f.create_dataset(\"score_set\", data = np.array(list(sorted(scores_dictionary.items())), dtype = name_ints_tuple_type), dtype = name_ints_tuple_type, chunks = True)"
   ]
  },
  {
   "cell_type": "code",
   "execution_count": 41,
   "metadata": {},
   "outputs": [
    {
     "name": "stdout",
     "output_type": "stream",
     "text": [
      "[b'Lactobacillus' b'Gardnerella' b'Curved']\n",
      "[(b'1', (1, 3, 0)) (b'10', (4, 4, 1)) (b'100', (4, 2, 1))\n",
      " (b'101', (4, 3, 1)) (b'102', (4, 3, 1)) (b'103', (4, 3, 1))\n",
      " (b'104', (4, 2, 0)) (b'105', (4, 1, 0)) (b'106', (4, 4, 1))\n",
      " (b'107', (3, 4, 1)) (b'108', (4, 4, 1)) (b'109', (4, 4, 1))\n",
      " (b'11', (1, 4, 0)) (b'110', (4, 3, 0)) (b'111', (4, 3, 1))\n",
      " (b'112', (4, 4, 1)) (b'113', (3, 4, 1)) (b'114', (3, 4, 1))\n",
      " (b'115', (4, 4, 1)) (b'116', (4, 4, 1)) (b'117', (3, 3, 0))\n",
      " (b'118', (4, 0, 0)) (b'119', (2, 4, 1)) (b'12', (1, 3, 0))\n",
      " (b'13', (1, 0, 0)) (b'14', (1, 0, 0)) (b'15', (1, 0, 0))\n",
      " (b'16', (1, 0, 0)) (b'17', (1, 0, 0)) (b'18', (1, 0, 0))\n",
      " (b'19', (1, 0, 0)) (b'2', (2, 0, 0)) (b'20', (1, 0, 0))\n",
      " (b'21', (1, 0, 0)) (b'22', (1, 0, 0)) (b'23', (1, 0, 0))\n",
      " (b'24', (1, 0, 0)) (b'25', (1, 0, 0)) (b'26', (4, 4, 1))\n",
      " (b'27', (4, 4, 1)) (b'28', (4, 4, 1)) (b'29', (4, 4, 1))\n",
      " (b'3', (0, 0, 0)) (b'30', (4, 4, 1)) (b'31', (4, 3, 1))\n",
      " (b'32', (4, 4, 1)) (b'33', (4, 3, 0)) (b'34', (4, 3, 0))\n",
      " (b'35', (4, 3, 1)) (b'36', (2, 4, 1)) (b'37', (2, 4, 1))\n",
      " (b'38', (2, 4, 2)) (b'39', (2, 4, 2)) (b'4', (1, 0, 0))\n",
      " (b'40', (4, 3, 1)) (b'41', (4, 3, 0)) (b'42', (3, 3, 0))\n",
      " (b'43', (4, 1, 0)) (b'44', (4, 0, 0)) (b'45', (4, 2, 0))\n",
      " (b'46', (4, 2, 0)) (b'47', (4, 0, 0)) (b'48', (4, 0, 0))\n",
      " (b'49', (4, 4, 1)) (b'5', (1, 0, 0)) (b'50', (4, 3, 0))\n",
      " (b'51', (4, 2, 0)) (b'52', (4, 2, 0)) (b'53', (4, 3, 0))\n",
      " (b'54', (3, 3, 0)) (b'55', (1, 0, 0)) (b'56', (1, 0, 0))\n",
      " (b'57', (1, 0, 0)) (b'58', (1, 0, 0)) (b'59', (0, 0, 0))\n",
      " (b'6', (3, 4, 1)) (b'60', (1, 0, 0)) (b'61', (1, 0, 0))\n",
      " (b'62', (1, 3, 0)) (b'63', (1, 3, 0)) (b'64', (1, 4, 2))\n",
      " (b'65', (1, 4, 2)) (b'66', (0, 4, 1)) (b'67', (1, 3, 1))\n",
      " (b'68', (1, 3, 0)) (b'69', (3, 3, 0)) (b'7', (4, 4, 1))\n",
      " (b'70', (2, 4, 0)) (b'71', (3, 2, 0)) (b'72', (4, 4, 1))\n",
      " (b'73', (4, 4, 1)) (b'74', (4, 4, 1)) (b'75', (4, 4, 1))\n",
      " (b'76', (4, 3, 0)) (b'77', (4, 4, 1)) (b'78', (4, 4, 1))\n",
      " (b'79', (4, 3, 0)) (b'8', (4, 4, 2)) (b'80', (4, 3, 0))\n",
      " (b'81', (4, 3, 1)) (b'82', (4, 4, 1)) (b'83', (4, 3, 0))\n",
      " (b'84', (2, 3, 0)) (b'85', (3, 3, 0)) (b'86', (2, 2, 0))\n",
      " (b'87', (2, 2, 0)) (b'88', (3, 2, 0)) (b'89', (3, 2, 0))\n",
      " (b'9', (4, 4, 2)) (b'90', (2, 2, 0)) (b'91', (3, 2, 0))\n",
      " (b'92', (2, 2, 0)) (b'93', (2, 2, 0)) (b'94', (2, 2, 0))\n",
      " (b'95', (4, 3, 1)) (b'96', (4, 2, 0)) (b'97', (4, 2, 1))\n",
      " (b'98', (4, 2, 0)) (b'99', (4, 3, 1))]\n"
     ]
    }
   ],
   "source": [
    "print(f[\"header_set\"][:])\n",
    "print(f[\"score_set\"][:])"
   ]
  },
  {
   "cell_type": "code",
   "execution_count": 42,
   "metadata": {},
   "outputs": [],
   "source": [
    "f.close()"
   ]
  },
  {
   "cell_type": "code",
   "execution_count": null,
   "metadata": {},
   "outputs": [],
   "source": []
  }
 ],
 "metadata": {
  "kernelspec": {
   "display_name": "Python 3",
   "language": "python",
   "name": "python3"
  },
  "language_info": {
   "codemirror_mode": {
    "name": "ipython",
    "version": 3
   },
   "file_extension": ".py",
   "mimetype": "text/x-python",
   "name": "python",
   "nbconvert_exporter": "python",
   "pygments_lexer": "ipython3",
   "version": "3.6.4"
  }
 },
 "nbformat": 4,
 "nbformat_minor": 2
}
